{
 "cells": [
  {
   "cell_type": "code",
   "execution_count": 1,
   "metadata": {
    "execution": {
     "iopub.execute_input": "2025-06-20T13:07:43.228961Z",
     "iopub.status.busy": "2025-06-20T13:07:43.228635Z",
     "iopub.status.idle": "2025-06-20T13:07:43.460032Z",
     "shell.execute_reply": "2025-06-20T13:07:43.459718Z"
    }
   },
   "outputs": [],
   "source": [
    "import numpy as np\n",
    "import pandas as pd\n",
    "from plotnine import (\n",
    "    ggplot,\n",
    "    aes,\n",
    "    geom_point,\n",
    "    geom_path,\n",
    "    scale_x_continuous,\n",
    "    scale_y_continuous,\n",
    "    guides,\n",
    "    theme,\n",
    "    element_line,\n",
    "    element_rect,\n",
    ")\n",
    "from mizani.transforms import trans"
   ]
  },
  {
   "cell_type": "markdown",
   "metadata": {},
   "source": [
    "### Guitar Neck ###\n",
    "*Using a transformed x-axis to visualise guitar chords*"
   ]
  },
  {
   "cell_type": "markdown",
   "metadata": {},
   "source": [
    "The x-axis is transformed to resemble the narrowing width of frets on a 25.5 inch Strat. To do that\n",
    "we create custom transformation.\n",
    "\n",
    "The key parts of *any* transform object are the `transform` and `inverse` functions."
   ]
  },
  {
   "cell_type": "code",
   "execution_count": 2,
   "metadata": {
    "execution": {
     "iopub.execute_input": "2025-06-20T13:07:43.461427Z",
     "iopub.status.busy": "2025-06-20T13:07:43.461348Z",
     "iopub.status.idle": "2025-06-20T13:07:43.463695Z",
     "shell.execute_reply": "2025-06-20T13:07:43.463508Z"
    }
   },
   "outputs": [],
   "source": [
    "class frets_trans(trans):\n",
    "    \"\"\"\n",
    "    Frets Transformation\n",
    "    \"\"\"\n",
    "\n",
    "    number_of_frets = 23  # Including fret 0\n",
    "    domain = (0, number_of_frets - 1)\n",
    "\n",
    "    @staticmethod\n",
    "    def transform(x):\n",
    "        x = np.asarray(x)\n",
    "        return 25.5 - (25.5 / (2 ** (x / 12)))\n",
    "\n",
    "    @staticmethod\n",
    "    def inverse(x):\n",
    "        x = np.asarray(x)\n",
    "        return 12 * np.log2(25.5 / (25.5 - x))\n",
    "\n",
    "    @classmethod\n",
    "    def breaks_(cls, limits):\n",
    "        # Fixed major breaks\n",
    "        return cls.domain\n",
    "\n",
    "    @classmethod\n",
    "    def minor_breaks(cls, major, limits):\n",
    "        # The major breaks as passed to this method are in transformed space.\n",
    "        # The minor breaks are calculated in data space to reveal the\n",
    "        # non-linearity of the scale.\n",
    "        _major = cls.inverse(major)\n",
    "        minor = cls.transform(np.linspace(*_major, cls.number_of_frets))\n",
    "        return minor"
   ]
  },
  {
   "cell_type": "markdown",
   "metadata": {},
   "source": [
    "The above transform is different from most in that, breaks and minor breaks do not change. This is common of very specialized scales. It can also be a key requirement when creating graphics for demontration purposes. "
   ]
  },
  {
   "cell_type": "markdown",
   "metadata": {},
   "source": [
    "Some chord Data"
   ]
  },
  {
   "cell_type": "code",
   "execution_count": 3,
   "metadata": {
    "execution": {
     "iopub.execute_input": "2025-06-20T13:07:43.464803Z",
     "iopub.status.busy": "2025-06-20T13:07:43.464746Z",
     "iopub.status.idle": "2025-06-20T13:07:43.467132Z",
     "shell.execute_reply": "2025-06-20T13:07:43.466858Z"
    }
   },
   "outputs": [],
   "source": [
    "# Notes: the 0 fret is an open strum, all other frets are played half-way between fret bars.\n",
    "# The strings are 1:low E, 2: A, 3: D, 4: G, 5: B, 6: E\n",
    "c_chord = pd.DataFrame({\"Fret\": [0, 2.5, 1.5, 0, 0.5, 0], \"String\": [1, 2, 3, 4, 5, 6]})\n",
    "\n",
    "# Sequence based on the number of notes in the chord\n",
    "c_chord[\"Sequence\"] = list(range(1, 1 + len(c_chord[\"Fret\"])))\n",
    "\n",
    "# Standard markings for a Stratocaster\n",
    "markings = pd.DataFrame(\n",
    "    {\n",
    "        \"Fret\": [2.5, 4.5, 6.5, 8.5, 11.5, 11.5, 14.5, 16.5, 18.5, 20.5],\n",
    "        \"String\": [3.5, 3.5, 3.5, 3.5, 2, 5, 3.5, 3.5, 3.5, 3.5],\n",
    "    }\n",
    ")"
   ]
  },
  {
   "cell_type": "markdown",
   "metadata": {},
   "source": [
    "Visualizing the chord"
   ]
  },
  {
   "cell_type": "code",
   "execution_count": 4,
   "metadata": {
    "execution": {
     "iopub.execute_input": "2025-06-20T13:07:43.468152Z",
     "iopub.status.busy": "2025-06-20T13:07:43.468084Z",
     "iopub.status.idle": "2025-06-20T13:07:43.715532Z",
     "shell.execute_reply": "2025-06-20T13:07:43.715333Z"
    },
    "scrolled": true
   },
   "outputs": [
    {
     "ename": "TypeError",
     "evalue": "'numpy.float64' object cannot be interpreted as an integer",
     "output_type": "error",
     "traceback": [
      "\u001b[31m---------------------------------------------------------------------------\u001b[39m",
      "\u001b[31mTypeError\u001b[39m                                 Traceback (most recent call last)",
      "\u001b[36mFile \u001b[39m\u001b[32m~/scm/python/plotnine/.venv/lib/python3.13/site-packages/IPython/core/formatters.py:984\u001b[39m, in \u001b[36mIPythonDisplayFormatter.__call__\u001b[39m\u001b[34m(self, obj)\u001b[39m\n\u001b[32m    982\u001b[39m method = get_real_method(obj, \u001b[38;5;28mself\u001b[39m.print_method)\n\u001b[32m    983\u001b[39m \u001b[38;5;28;01mif\u001b[39;00m method \u001b[38;5;129;01mis\u001b[39;00m \u001b[38;5;129;01mnot\u001b[39;00m \u001b[38;5;28;01mNone\u001b[39;00m:\n\u001b[32m--> \u001b[39m\u001b[32m984\u001b[39m     \u001b[43mmethod\u001b[49m\u001b[43m(\u001b[49m\u001b[43m)\u001b[49m\n\u001b[32m    985\u001b[39m     \u001b[38;5;28;01mreturn\u001b[39;00m \u001b[38;5;28;01mTrue\u001b[39;00m\n",
      "\u001b[36mFile \u001b[39m\u001b[32m~/scm/python/plotnine/plotnine/ggplot.py:149\u001b[39m, in \u001b[36mggplot._ipython_display_\u001b[39m\u001b[34m(self)\u001b[39m\n\u001b[32m    142\u001b[39m \u001b[38;5;28;01mdef\u001b[39;00m\u001b[38;5;250m \u001b[39m\u001b[34m_ipython_display_\u001b[39m(\u001b[38;5;28mself\u001b[39m):\n\u001b[32m    143\u001b[39m \u001b[38;5;250m    \u001b[39m\u001b[33;03m\"\"\"\u001b[39;00m\n\u001b[32m    144\u001b[39m \u001b[33;03m    Display plot in the output of the cell\u001b[39;00m\n\u001b[32m    145\u001b[39m \n\u001b[32m    146\u001b[39m \u001b[33;03m    This method will always be called when a ggplot object is the\u001b[39;00m\n\u001b[32m    147\u001b[39m \u001b[33;03m    last in the cell.\u001b[39;00m\n\u001b[32m    148\u001b[39m \u001b[33;03m    \"\"\"\u001b[39;00m\n\u001b[32m--> \u001b[39m\u001b[32m149\u001b[39m     \u001b[38;5;28;43mself\u001b[39;49m\u001b[43m.\u001b[49m\u001b[43m_display\u001b[49m\u001b[43m(\u001b[49m\u001b[43m)\u001b[49m\n",
      "\u001b[36mFile \u001b[39m\u001b[32m~/scm/python/plotnine/plotnine/ggplot.py:190\u001b[39m, in \u001b[36mggplot._display\u001b[39m\u001b[34m(self)\u001b[39m\n\u001b[32m    187\u001b[39m     \u001b[38;5;28mself\u001b[39m.theme = \u001b[38;5;28mself\u001b[39m.theme.to_retina()\n\u001b[32m    189\u001b[39m buf = BytesIO()\n\u001b[32m--> \u001b[39m\u001b[32m190\u001b[39m \u001b[38;5;28;43mself\u001b[39;49m\u001b[43m.\u001b[49m\u001b[43msave\u001b[49m\u001b[43m(\u001b[49m\u001b[43mbuf\u001b[49m\u001b[43m,\u001b[49m\u001b[43m \u001b[49m\u001b[33;43m\"\u001b[39;49m\u001b[33;43mpng\u001b[39;49m\u001b[33;43m\"\u001b[39;49m\u001b[43m \u001b[49m\u001b[38;5;28;43;01mif\u001b[39;49;00m\u001b[43m \u001b[49m\u001b[38;5;28;43mformat\u001b[39;49m\u001b[43m \u001b[49m\u001b[43m==\u001b[49m\u001b[43m \u001b[49m\u001b[33;43m\"\u001b[39;49m\u001b[33;43mretina\u001b[39;49m\u001b[33;43m\"\u001b[39;49m\u001b[43m \u001b[49m\u001b[38;5;28;43;01melse\u001b[39;49;00m\u001b[43m \u001b[49m\u001b[38;5;28;43mformat\u001b[39;49m\u001b[43m,\u001b[49m\u001b[43m \u001b[49m\u001b[43mverbose\u001b[49m\u001b[43m=\u001b[49m\u001b[38;5;28;43;01mFalse\u001b[39;49;00m\u001b[43m)\u001b[49m\n\u001b[32m    191\u001b[39m figure_size_px = \u001b[38;5;28mself\u001b[39m.theme._figure_size_px\n\u001b[32m    192\u001b[39m display_func = get_display_function(\u001b[38;5;28mformat\u001b[39m, figure_size_px)\n",
      "\u001b[36mFile \u001b[39m\u001b[32m~/scm/python/plotnine/plotnine/ggplot.py:702\u001b[39m, in \u001b[36mggplot.save\u001b[39m\u001b[34m(self, filename, format, path, width, height, units, dpi, limitsize, verbose, **kwargs)\u001b[39m\n\u001b[32m    653\u001b[39m \u001b[38;5;28;01mdef\u001b[39;00m\u001b[38;5;250m \u001b[39m\u001b[34msave\u001b[39m(\n\u001b[32m    654\u001b[39m     \u001b[38;5;28mself\u001b[39m,\n\u001b[32m    655\u001b[39m     filename: Optional[\u001b[38;5;28mstr\u001b[39m | Path | BytesIO] = \u001b[38;5;28;01mNone\u001b[39;00m,\n\u001b[32m   (...)\u001b[39m\u001b[32m    664\u001b[39m     **kwargs: Any,\n\u001b[32m    665\u001b[39m ):\n\u001b[32m    666\u001b[39m \u001b[38;5;250m    \u001b[39m\u001b[33;03m\"\"\"\u001b[39;00m\n\u001b[32m    667\u001b[39m \u001b[33;03m    Save a ggplot object as an image file\u001b[39;00m\n\u001b[32m    668\u001b[39m \n\u001b[32m   (...)\u001b[39m\u001b[32m    700\u001b[39m \u001b[33;03m        Additional arguments to pass to matplotlib `savefig()`.\u001b[39;00m\n\u001b[32m    701\u001b[39m \u001b[33;03m    \"\"\"\u001b[39;00m\n\u001b[32m--> \u001b[39m\u001b[32m702\u001b[39m     sv = \u001b[38;5;28;43mself\u001b[39;49m\u001b[43m.\u001b[49m\u001b[43msave_helper\u001b[49m\u001b[43m(\u001b[49m\n\u001b[32m    703\u001b[39m \u001b[43m        \u001b[49m\u001b[43mfilename\u001b[49m\u001b[43m=\u001b[49m\u001b[43mfilename\u001b[49m\u001b[43m,\u001b[49m\n\u001b[32m    704\u001b[39m \u001b[43m        \u001b[49m\u001b[38;5;28;43mformat\u001b[39;49m\u001b[43m=\u001b[49m\u001b[38;5;28;43mformat\u001b[39;49m\u001b[43m,\u001b[49m\n\u001b[32m    705\u001b[39m \u001b[43m        \u001b[49m\u001b[43mpath\u001b[49m\u001b[43m=\u001b[49m\u001b[43mpath\u001b[49m\u001b[43m,\u001b[49m\n\u001b[32m    706\u001b[39m \u001b[43m        \u001b[49m\u001b[43mwidth\u001b[49m\u001b[43m=\u001b[49m\u001b[43mwidth\u001b[49m\u001b[43m,\u001b[49m\n\u001b[32m    707\u001b[39m \u001b[43m        \u001b[49m\u001b[43mheight\u001b[49m\u001b[43m=\u001b[49m\u001b[43mheight\u001b[49m\u001b[43m,\u001b[49m\n\u001b[32m    708\u001b[39m \u001b[43m        \u001b[49m\u001b[43munits\u001b[49m\u001b[43m=\u001b[49m\u001b[43munits\u001b[49m\u001b[43m,\u001b[49m\n\u001b[32m    709\u001b[39m \u001b[43m        \u001b[49m\u001b[43mdpi\u001b[49m\u001b[43m=\u001b[49m\u001b[43mdpi\u001b[49m\u001b[43m,\u001b[49m\n\u001b[32m    710\u001b[39m \u001b[43m        \u001b[49m\u001b[43mlimitsize\u001b[49m\u001b[43m=\u001b[49m\u001b[43mlimitsize\u001b[49m\u001b[43m,\u001b[49m\n\u001b[32m    711\u001b[39m \u001b[43m        \u001b[49m\u001b[43mverbose\u001b[49m\u001b[43m=\u001b[49m\u001b[43mverbose\u001b[49m\u001b[43m,\u001b[49m\n\u001b[32m    712\u001b[39m \u001b[43m        \u001b[49m\u001b[43m*\u001b[49m\u001b[43m*\u001b[49m\u001b[43mkwargs\u001b[49m\u001b[43m,\u001b[49m\n\u001b[32m    713\u001b[39m \u001b[43m    \u001b[49m\u001b[43m)\u001b[49m\n\u001b[32m    715\u001b[39m     \u001b[38;5;28;01mwith\u001b[39;00m plot_context(\u001b[38;5;28mself\u001b[39m).rc_context:\n\u001b[32m    716\u001b[39m         sv.figure.savefig(**sv.kwargs)\n",
      "\u001b[36mFile \u001b[39m\u001b[32m~/scm/python/plotnine/plotnine/ggplot.py:650\u001b[39m, in \u001b[36mggplot.save_helper\u001b[39m\u001b[34m(self, filename, format, path, width, height, units, dpi, limitsize, verbose, **kwargs)\u001b[39m\n\u001b[32m    647\u001b[39m \u001b[38;5;28;01mif\u001b[39;00m dpi \u001b[38;5;129;01mis\u001b[39;00m \u001b[38;5;129;01mnot\u001b[39;00m \u001b[38;5;28;01mNone\u001b[39;00m:\n\u001b[32m    648\u001b[39m     \u001b[38;5;28mself\u001b[39m.theme = \u001b[38;5;28mself\u001b[39m.theme + theme(dpi=dpi)\n\u001b[32m--> \u001b[39m\u001b[32m650\u001b[39m figure = \u001b[38;5;28;43mself\u001b[39;49m\u001b[43m.\u001b[49m\u001b[43mdraw\u001b[49m\u001b[43m(\u001b[49m\u001b[43mshow\u001b[49m\u001b[43m=\u001b[49m\u001b[38;5;28;43;01mFalse\u001b[39;49;00m\u001b[43m)\u001b[49m\n\u001b[32m    651\u001b[39m \u001b[38;5;28;01mreturn\u001b[39;00m mpl_save_view(figure, fig_kwargs)\n",
      "\u001b[36mFile \u001b[39m\u001b[32m~/scm/python/plotnine/plotnine/ggplot.py:322\u001b[39m, in \u001b[36mggplot.draw\u001b[39m\u001b[34m(self, show)\u001b[39m\n\u001b[32m    319\u001b[39m     \u001b[38;5;28mself\u001b[39m._create_figure()\n\u001b[32m    320\u001b[39m figure = \u001b[38;5;28mself\u001b[39m.figure\n\u001b[32m--> \u001b[39m\u001b[32m322\u001b[39m \u001b[38;5;28;43mself\u001b[39;49m\u001b[43m.\u001b[49m\u001b[43m_build\u001b[49m\u001b[43m(\u001b[49m\u001b[43m)\u001b[49m\n\u001b[32m    324\u001b[39m \u001b[38;5;66;03m# setup\u001b[39;00m\n\u001b[32m    325\u001b[39m \u001b[38;5;28mself\u001b[39m.axs = \u001b[38;5;28mself\u001b[39m.facet.setup(\u001b[38;5;28mself\u001b[39m)\n",
      "\u001b[36mFile \u001b[39m\u001b[32m~/scm/python/plotnine/plotnine/ggplot.py:423\u001b[39m, in \u001b[36mggplot._build\u001b[39m\u001b[34m(self)\u001b[39m\n\u001b[32m    420\u001b[39m     layers.map(npscales)\n\u001b[32m    422\u001b[39m \u001b[38;5;66;03m# Train coordinate system\u001b[39;00m\n\u001b[32m--> \u001b[39m\u001b[32m423\u001b[39m \u001b[43mlayout\u001b[49m\u001b[43m.\u001b[49m\u001b[43msetup_panel_params\u001b[49m\u001b[43m(\u001b[49m\u001b[38;5;28;43mself\u001b[39;49m\u001b[43m.\u001b[49m\u001b[43mcoordinates\u001b[49m\u001b[43m)\u001b[49m\n\u001b[32m    425\u001b[39m \u001b[38;5;66;03m# fill in the defaults\u001b[39;00m\n\u001b[32m    426\u001b[39m layers.use_defaults_after_scale(scales)\n",
      "\u001b[36mFile \u001b[39m\u001b[32m~/scm/python/plotnine/plotnine/facets/layout.py:198\u001b[39m, in \u001b[36mLayout.setup_panel_params\u001b[39m\u001b[34m(self, coord)\u001b[39m\n\u001b[32m    196\u001b[39m \u001b[38;5;28;01mfor\u001b[39;00m i, j \u001b[38;5;129;01min\u001b[39;00m \u001b[38;5;28mself\u001b[39m.layout[cols].itertuples(index=\u001b[38;5;28;01mFalse\u001b[39;00m):\n\u001b[32m    197\u001b[39m     i, j = i - \u001b[32m1\u001b[39m, j - \u001b[32m1\u001b[39m\n\u001b[32m--> \u001b[39m\u001b[32m198\u001b[39m     params = \u001b[43mcoord\u001b[49m\u001b[43m.\u001b[49m\u001b[43msetup_panel_params\u001b[49m\u001b[43m(\u001b[49m\n\u001b[32m    199\u001b[39m \u001b[43m        \u001b[49m\u001b[38;5;28;43mself\u001b[39;49m\u001b[43m.\u001b[49m\u001b[43mpanel_scales_x\u001b[49m\u001b[43m[\u001b[49m\u001b[43mi\u001b[49m\u001b[43m]\u001b[49m\u001b[43m,\u001b[49m\u001b[43m \u001b[49m\u001b[38;5;28;43mself\u001b[39;49m\u001b[43m.\u001b[49m\u001b[43mpanel_scales_y\u001b[49m\u001b[43m[\u001b[49m\u001b[43mj\u001b[49m\u001b[43m]\u001b[49m\n\u001b[32m    200\u001b[39m \u001b[43m    \u001b[49m\u001b[43m)\u001b[49m\n\u001b[32m    201\u001b[39m     \u001b[38;5;28mself\u001b[39m.panel_params.append(params)\n",
      "\u001b[36mFile \u001b[39m\u001b[32m~/scm/python/plotnine/plotnine/coords/coord_cartesian.py:88\u001b[39m, in \u001b[36mcoord_cartesian.setup_panel_params\u001b[39m\u001b[34m(self, scale_x, scale_y)\u001b[39m\n\u001b[32m     84\u001b[39m     sv = scale.view(limits=coord_limits, \u001b[38;5;28mrange\u001b[39m=ranges.range)\n\u001b[32m     85\u001b[39m     \u001b[38;5;28;01mreturn\u001b[39;00m sv\n\u001b[32m     87\u001b[39m out = panel_view(\n\u001b[32m---> \u001b[39m\u001b[32m88\u001b[39m     x=\u001b[43mget_scale_view\u001b[49m\u001b[43m(\u001b[49m\u001b[43mscale_x\u001b[49m\u001b[43m,\u001b[49m\u001b[43m \u001b[49m\u001b[38;5;28;43mself\u001b[39;49m\u001b[43m.\u001b[49m\u001b[43mlimits\u001b[49m\u001b[43m.\u001b[49m\u001b[43mx\u001b[49m\u001b[43m)\u001b[49m,\n\u001b[32m     89\u001b[39m     y=get_scale_view(scale_y, \u001b[38;5;28mself\u001b[39m.limits.y),\n\u001b[32m     90\u001b[39m )\n\u001b[32m     91\u001b[39m \u001b[38;5;28;01mreturn\u001b[39;00m out\n",
      "\u001b[36mFile \u001b[39m\u001b[32m~/scm/python/plotnine/plotnine/coords/coord_cartesian.py:84\u001b[39m, in \u001b[36mcoord_cartesian.setup_panel_params.<locals>.get_scale_view\u001b[39m\u001b[34m(scale, limits)\u001b[39m\n\u001b[32m     80\u001b[39m expansion = scale.default_expansion(expand=\u001b[38;5;28mself\u001b[39m.expand)\n\u001b[32m     81\u001b[39m ranges = scale.expand_limits(\n\u001b[32m     82\u001b[39m     scale.final_limits, expansion, coord_limits, identity_trans()\n\u001b[32m     83\u001b[39m )\n\u001b[32m---> \u001b[39m\u001b[32m84\u001b[39m sv = \u001b[43mscale\u001b[49m\u001b[43m.\u001b[49m\u001b[43mview\u001b[49m\u001b[43m(\u001b[49m\u001b[43mlimits\u001b[49m\u001b[43m=\u001b[49m\u001b[43mcoord_limits\u001b[49m\u001b[43m,\u001b[49m\u001b[43m \u001b[49m\u001b[38;5;28;43mrange\u001b[39;49m\u001b[43m=\u001b[49m\u001b[43mranges\u001b[49m\u001b[43m.\u001b[49m\u001b[43mrange\u001b[49m\u001b[43m)\u001b[49m\n\u001b[32m     85\u001b[39m \u001b[38;5;28;01mreturn\u001b[39;00m sv\n",
      "\u001b[36mFile \u001b[39m\u001b[32m~/scm/python/plotnine/plotnine/scales/scale_continuous.py:328\u001b[39m, in \u001b[36mscale_continuous.view\u001b[39m\u001b[34m(self, limits, range)\u001b[39m\n\u001b[32m    325\u001b[39m labels = \u001b[38;5;28mself\u001b[39m.get_labels(breaks)\n\u001b[32m    327\u001b[39m ubreaks = \u001b[38;5;28mself\u001b[39m.get_breaks(\u001b[38;5;28mrange\u001b[39m)\n\u001b[32m--> \u001b[39m\u001b[32m328\u001b[39m minor_breaks = \u001b[38;5;28;43mself\u001b[39;49m\u001b[43m.\u001b[49m\u001b[43mget_minor_breaks\u001b[49m\u001b[43m(\u001b[49m\u001b[43mubreaks\u001b[49m\u001b[43m,\u001b[49m\u001b[43m \u001b[49m\u001b[38;5;28;43mrange\u001b[39;49m\u001b[43m)\u001b[49m\n\u001b[32m    330\u001b[39m sv = scale_view(\n\u001b[32m    331\u001b[39m     scale=\u001b[38;5;28mself\u001b[39m,\n\u001b[32m    332\u001b[39m     aesthetics=\u001b[38;5;28mself\u001b[39m.aesthetics,\n\u001b[32m   (...)\u001b[39m\u001b[32m    338\u001b[39m     minor_breaks=minor_breaks,\n\u001b[32m    339\u001b[39m )\n\u001b[32m    340\u001b[39m \u001b[38;5;28;01mreturn\u001b[39;00m sv\n",
      "\u001b[36mFile \u001b[39m\u001b[32m~/scm/python/plotnine/plotnine/scales/scale_continuous.py:473\u001b[39m, in \u001b[36mscale_continuous.get_minor_breaks\u001b[39m\u001b[34m(self, major, limits)\u001b[39m\n\u001b[32m    471\u001b[39m     minor_breaks = []\n\u001b[32m    472\u001b[39m \u001b[38;5;28;01melif\u001b[39;00m \u001b[38;5;28mself\u001b[39m.minor_breaks \u001b[38;5;129;01mis\u001b[39;00m \u001b[38;5;28;01mTrue\u001b[39;00m:\n\u001b[32m--> \u001b[39m\u001b[32m473\u001b[39m     minor_breaks: Sequence[\u001b[38;5;28mfloat\u001b[39m] = \u001b[38;5;28;43mself\u001b[39;49m\u001b[43m.\u001b[49m\u001b[43m_trans\u001b[49m\u001b[43m.\u001b[49m\u001b[43mminor_breaks\u001b[49m\u001b[43m(\u001b[49m\n\u001b[32m    474\u001b[39m \u001b[43m        \u001b[49m\u001b[43mmajor\u001b[49m\u001b[43m,\u001b[49m\u001b[43m \u001b[49m\u001b[43mlimits\u001b[49m\n\u001b[32m    475\u001b[39m \u001b[43m    \u001b[49m\u001b[43m)\u001b[49m  \u001b[38;5;66;03m# pyright: ignore\u001b[39;00m\n\u001b[32m    476\u001b[39m \u001b[38;5;28;01melif\u001b[39;00m \u001b[38;5;28misinstance\u001b[39m(\u001b[38;5;28mself\u001b[39m.minor_breaks, \u001b[38;5;28mint\u001b[39m):\n\u001b[32m    477\u001b[39m     minor_breaks: Sequence[\u001b[38;5;28mfloat\u001b[39m] = \u001b[38;5;28mself\u001b[39m._trans.minor_breaks(\n\u001b[32m    478\u001b[39m         major,\n\u001b[32m    479\u001b[39m         limits,\n\u001b[32m    480\u001b[39m         \u001b[38;5;28mself\u001b[39m.minor_breaks,  \u001b[38;5;66;03m# pyright: ignore\u001b[39;00m\n\u001b[32m    481\u001b[39m     )\n",
      "\u001b[36mCell\u001b[39m\u001b[36m \u001b[39m\u001b[32mIn[2]\u001b[39m\u001b[32m, line 30\u001b[39m, in \u001b[36mfrets_trans.minor_breaks\u001b[39m\u001b[34m(cls, major, limits)\u001b[39m\n\u001b[32m     24\u001b[39m \u001b[38;5;129m@classmethod\u001b[39m\n\u001b[32m     25\u001b[39m \u001b[38;5;28;01mdef\u001b[39;00m\u001b[38;5;250m \u001b[39m\u001b[34mminor_breaks\u001b[39m(\u001b[38;5;28mcls\u001b[39m, major, limits):\n\u001b[32m     26\u001b[39m     \u001b[38;5;66;03m# The major breaks as passed to this method are in transformed space.\u001b[39;00m\n\u001b[32m     27\u001b[39m     \u001b[38;5;66;03m# The minor breaks are calculated in data space to reveal the\u001b[39;00m\n\u001b[32m     28\u001b[39m     \u001b[38;5;66;03m# non-linearity of the scale.\u001b[39;00m\n\u001b[32m     29\u001b[39m     _major = \u001b[38;5;28mcls\u001b[39m.inverse(major)\n\u001b[32m---> \u001b[39m\u001b[32m30\u001b[39m     minor = \u001b[38;5;28mcls\u001b[39m.transform(\u001b[43mnp\u001b[49m\u001b[43m.\u001b[49m\u001b[43mlinspace\u001b[49m\u001b[43m(\u001b[49m\u001b[43m*\u001b[49m\u001b[43m_major\u001b[49m\u001b[43m,\u001b[49m\u001b[43m \u001b[49m\u001b[38;5;28;43mcls\u001b[39;49m\u001b[43m.\u001b[49m\u001b[43mnumber_of_frets\u001b[49m\u001b[43m)\u001b[49m)\n\u001b[32m     31\u001b[39m     \u001b[38;5;28;01mreturn\u001b[39;00m minor\n",
      "\u001b[36mFile \u001b[39m\u001b[32m~/scm/python/plotnine/.venv/lib/python3.13/site-packages/numpy/_core/function_base.py:121\u001b[39m, in \u001b[36mlinspace\u001b[39m\u001b[34m(start, stop, num, endpoint, retstep, dtype, axis, device)\u001b[39m\n\u001b[32m     25\u001b[39m \u001b[38;5;129m@array_function_dispatch\u001b[39m(_linspace_dispatcher)\n\u001b[32m     26\u001b[39m \u001b[38;5;28;01mdef\u001b[39;00m\u001b[38;5;250m \u001b[39m\u001b[34mlinspace\u001b[39m(start, stop, num=\u001b[32m50\u001b[39m, endpoint=\u001b[38;5;28;01mTrue\u001b[39;00m, retstep=\u001b[38;5;28;01mFalse\u001b[39;00m, dtype=\u001b[38;5;28;01mNone\u001b[39;00m,\n\u001b[32m     27\u001b[39m              axis=\u001b[32m0\u001b[39m, *, device=\u001b[38;5;28;01mNone\u001b[39;00m):\n\u001b[32m     28\u001b[39m \u001b[38;5;250m    \u001b[39m\u001b[33;03m\"\"\"\u001b[39;00m\n\u001b[32m     29\u001b[39m \u001b[33;03m    Return evenly spaced numbers over a specified interval.\u001b[39;00m\n\u001b[32m     30\u001b[39m \n\u001b[32m   (...)\u001b[39m\u001b[32m    119\u001b[39m \n\u001b[32m    120\u001b[39m \u001b[33;03m    \"\"\"\u001b[39;00m\n\u001b[32m--> \u001b[39m\u001b[32m121\u001b[39m     num = \u001b[43moperator\u001b[49m\u001b[43m.\u001b[49m\u001b[43mindex\u001b[49m\u001b[43m(\u001b[49m\u001b[43mnum\u001b[49m\u001b[43m)\u001b[49m\n\u001b[32m    122\u001b[39m     \u001b[38;5;28;01mif\u001b[39;00m num < \u001b[32m0\u001b[39m:\n\u001b[32m    123\u001b[39m         \u001b[38;5;28;01mraise\u001b[39;00m \u001b[38;5;167;01mValueError\u001b[39;00m(\n\u001b[32m    124\u001b[39m             \u001b[33m\"\u001b[39m\u001b[33mNumber of samples, \u001b[39m\u001b[38;5;132;01m%s\u001b[39;00m\u001b[33m, must be non-negative.\u001b[39m\u001b[33m\"\u001b[39m % num\n\u001b[32m    125\u001b[39m         )\n",
      "\u001b[31mTypeError\u001b[39m: 'numpy.float64' object cannot be interpreted as an integer"
     ]
    },
    {
     "data": {
      "text/plain": [
       "<plotnine.ggplot.ggplot at 0x120e718c0>"
      ]
     },
     "execution_count": 4,
     "metadata": {},
     "output_type": "execute_result"
    }
   ],
   "source": [
    "# Gallery, elaborate\n",
    "\n",
    "# Look and feel of the graphic\n",
    "neck_color = \"#FFDDCC\"\n",
    "fret_color = \"#998888\"\n",
    "string_color = \"#AA9944\"\n",
    "\n",
    "neck_theme = theme(\n",
    "    figure_size=(10, 2),\n",
    "    panel_background=element_rect(fill=neck_color),\n",
    "    panel_grid_major_y=element_line(color=string_color, size=2.2),\n",
    "    panel_grid_major_x=element_line(color=fret_color, size=2.2),\n",
    "    panel_grid_minor_x=element_line(color=fret_color, size=1),\n",
    ")\n",
    "\n",
    "(\n",
    "    ggplot(c_chord, aes(\"Fret\", \"String\"))\n",
    "    + geom_path(aes(color=\"Sequence\"), size=3)\n",
    "    + geom_point(aes(color=\"Sequence\"), fill=\"#FFFFFF\", size=3)\n",
    "    + geom_point(data=markings, fill=\"#000000\", size=4)\n",
    "    + scale_x_continuous(trans=frets_trans)\n",
    "    + scale_y_continuous(breaks=range(0, 7), minor_breaks=[])\n",
    "    + guides(color=False)\n",
    "    + neck_theme\n",
    ")"
   ]
  },
  {
   "cell_type": "markdown",
   "metadata": {},
   "source": [
    "**Credit**: This example was motivated by [Jonathan Vitale](https://github.com/jonvitale) who wanted to create graphics for a guitar scale trainer."
   ]
  }
 ],
 "metadata": {
  "kernelspec": {
   "display_name": "Python 3 (ipykernel)",
   "language": "python",
   "name": "python3"
  },
  "language_info": {
   "codemirror_mode": {
    "name": "ipython",
    "version": 3
   },
   "file_extension": ".py",
   "mimetype": "text/x-python",
   "name": "python",
   "nbconvert_exporter": "python",
   "pygments_lexer": "ipython3",
   "version": "3.13.2"
  },
  "toc": {
   "colors": {
    "hover_highlight": "#DAA520",
    "running_highlight": "#FF0000",
    "selected_highlight": "#FFD700"
   },
   "moveMenuLeft": true,
   "nav_menu": {
    "height": "12px",
    "width": "252px"
   },
   "navigate_menu": true,
   "number_sections": true,
   "sideBar": true,
   "threshold": 4,
   "toc_cell": false,
   "toc_section_display": "block",
   "toc_window_display": false,
   "widenNotebook": false
  }
 },
 "nbformat": 4,
 "nbformat_minor": 4
}
