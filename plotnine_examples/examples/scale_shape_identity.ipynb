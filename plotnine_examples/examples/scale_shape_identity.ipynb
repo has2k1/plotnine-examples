{
 "cells": [
  {
   "cell_type": "code",
   "execution_count": 1,
   "id": "dd59b457-1bb2-4151-94e9-2ef6637e56fc",
   "metadata": {
    "execution": {
     "iopub.execute_input": "2025-04-01T11:00:38.014282Z",
     "iopub.status.busy": "2025-04-01T11:00:38.013984Z",
     "iopub.status.idle": "2025-04-01T11:00:38.253486Z",
     "shell.execute_reply": "2025-04-01T11:00:38.253150Z"
    }
   },
   "outputs": [],
   "source": [
    "from plotnine import (\n",
    "    aes,\n",
    "    annotate,\n",
    "    coord_equal,\n",
    "    element_rect,\n",
    "    element_text,\n",
    "    facet_wrap,\n",
    "    geom_point,\n",
    "    geom_segment,\n",
    "    geom_text,\n",
    "    geom_tile,\n",
    "    ggplot,\n",
    "    lims,\n",
    "    scale_shape_identity,\n",
    "    theme,\n",
    "    theme_void,\n",
    ")\n",
    "\n",
    "import polars as pl\n",
    "import numpy as np"
   ]
  },
  {
   "cell_type": "markdown",
   "id": "498cb3e2-4ef4-40b8-aa9b-f8b5de264761",
   "metadata": {},
   "source": [
    "### Scatter Plot Shapes"
   ]
  },
  {
   "cell_type": "markdown",
   "id": "c4a8cbbc-8e9f-4f68-817e-9abe1f5116c2",
   "metadata": {},
   "source": [
    "List the shapes and prepare dataframe with what is required to display them."
   ]
  },
  {
   "cell_type": "code",
   "execution_count": 2,
   "id": "39aa61c2-f46a-4f62-9686-d1eb322ba948",
   "metadata": {
    "execution": {
     "iopub.execute_input": "2025-04-01T11:00:38.254813Z",
     "iopub.status.busy": "2025-04-01T11:00:38.254728Z",
     "iopub.status.idle": "2025-04-01T11:00:38.258643Z",
     "shell.execute_reply": "2025-04-01T11:00:38.258451Z"
    }
   },
   "outputs": [
    {
     "data": {
      "text/html": [
       "<div><style>\n",
       ".dataframe > thead > tr,\n",
       ".dataframe > tbody > tr {\n",
       "  text-align: right;\n",
       "  white-space: pre-wrap;\n",
       "}\n",
       "</style>\n",
       "<small>shape: (31, 4)</small><table border=\"1\" class=\"dataframe\"><thead><tr><th>x</th><th>y</th><th>shape</th><th>shape_kind</th></tr><tr><td>i64</td><td>f64</td><td>object</td><td>str</td></tr></thead><tbody><tr><td>0</td><td>4.0</td><td>o</td><td>&quot;Filled Shapes&quot;</td></tr><tr><td>1</td><td>4.0</td><td>^</td><td>&quot;Filled Shapes&quot;</td></tr><tr><td>2</td><td>4.0</td><td>s</td><td>&quot;Filled Shapes&quot;</td></tr><tr><td>3</td><td>4.0</td><td>D</td><td>&quot;Filled Shapes&quot;</td></tr><tr><td>4</td><td>4.0</td><td>v</td><td>&quot;Filled Shapes&quot;</td></tr><tr><td>&hellip;</td><td>&hellip;</td><td>&hellip;</td><td>&hellip;</td></tr><tr><td>3</td><td>2.5</td><td>3</td><td>&quot;Unfilled Shapes&quot;</td></tr><tr><td>4</td><td>2.5</td><td>4</td><td>&quot;Unfilled Shapes&quot;</td></tr><tr><td>5</td><td>2.5</td><td>5</td><td>&quot;Unfilled Shapes&quot;</td></tr><tr><td>6</td><td>2.5</td><td>6</td><td>&quot;Unfilled Shapes&quot;</td></tr><tr><td>7</td><td>2.5</td><td>7</td><td>&quot;Unfilled Shapes&quot;</td></tr></tbody></table></div>"
      ],
      "text/plain": [
       "shape: (31, 4)\n",
       "┌─────┬─────┬────────┬─────────────────┐\n",
       "│ x   ┆ y   ┆ shape  ┆ shape_kind      │\n",
       "│ --- ┆ --- ┆ ---    ┆ ---             │\n",
       "│ i64 ┆ f64 ┆ object ┆ str             │\n",
       "╞═════╪═════╪════════╪═════════════════╡\n",
       "│ 0   ┆ 4.0 ┆ o      ┆ Filled Shapes   │\n",
       "│ 1   ┆ 4.0 ┆ ^      ┆ Filled Shapes   │\n",
       "│ 2   ┆ 4.0 ┆ s      ┆ Filled Shapes   │\n",
       "│ 3   ┆ 4.0 ┆ D      ┆ Filled Shapes   │\n",
       "│ 4   ┆ 4.0 ┆ v      ┆ Filled Shapes   │\n",
       "│ …   ┆ …   ┆ …      ┆ …               │\n",
       "│ 3   ┆ 2.5 ┆ 3      ┆ Unfilled Shapes │\n",
       "│ 4   ┆ 2.5 ┆ 4      ┆ Unfilled Shapes │\n",
       "│ 5   ┆ 2.5 ┆ 5      ┆ Unfilled Shapes │\n",
       "│ 6   ┆ 2.5 ┆ 6      ┆ Unfilled Shapes │\n",
       "│ 7   ┆ 2.5 ┆ 7      ┆ Unfilled Shapes │\n",
       "└─────┴─────┴────────┴─────────────────┘"
      ]
     },
     "execution_count": 2,
     "metadata": {},
     "output_type": "execute_result"
    }
   ],
   "source": [
    "filled_shapes = (\n",
    "    \"o\",  # circle\n",
    "    \"^\",  # triangle up\n",
    "    \"s\",  # square\n",
    "    \"D\",  # Diamond\n",
    "    \"v\",  # triangle down\n",
    "    \"*\",  # star\n",
    "    \"p\",  # pentagon\n",
    "    \"8\",  # octagon\n",
    "    \"<\",  # triangle left\n",
    "    \"h\",  # hexagon1\n",
    "    \">\",  # triangle right\n",
    "    \"H\",  # hexagon1\n",
    "    \"d\",  # thin diamond\n",
    ")\n",
    "\n",
    "unfilled_shapes = (\n",
    "    \"+\",  # plus\n",
    "    \"x\",  # x\n",
    "    \".\",  # point\n",
    "    \"1\",  # tri_down\n",
    "    \"2\",  # tri_up\n",
    "    \"3\",  # tri_left\n",
    "    \"4\",  # tri_right\n",
    "    \",\",  # pixel\n",
    "    \"_\",  # hline\n",
    "    \"|\",  # vline\n",
    "    0,  # tickleft\n",
    "    1,  # tickright\n",
    "    2,  # tickup\n",
    "    3,  # tickdown\n",
    "    4,  # caretleft\n",
    "    5,  # caretright\n",
    "    6,  # caretup\n",
    "    7,  # caretdown\n",
    ")\n",
    "\n",
    "n1 = len(filled_shapes)\n",
    "n2 = len(unfilled_shapes)\n",
    "ncols = 10\n",
    "shapes = filled_shapes + unfilled_shapes\n",
    "\n",
    "df = pl.DataFrame({\n",
    "    \"x\": np.hstack([np.arange(n1) % ncols, np.arange(n2) % ncols]),\n",
    "    \"y\": 4 - 1.5 * np.hstack([np.arange(n1) // ncols, np.arange(n2) // ncols]),\n",
    "    \"shape\": pl.Series(shapes, dtype=object),\n",
    "    \"shape_kind\": np.repeat([\"Filled Shapes\", \"Unfilled Shapes\"], (n1, n2))\n",
    "})\n",
    "\n",
    "df"
   ]
  },
  {
   "cell_type": "code",
   "execution_count": 3,
   "id": "498ce92d-af61-4087-b662-b4aa903c170e",
   "metadata": {
    "execution": {
     "iopub.execute_input": "2025-04-01T11:00:38.259678Z",
     "iopub.status.busy": "2025-04-01T11:00:38.259611Z",
     "iopub.status.idle": "2025-04-01T11:00:38.555402Z",
     "shell.execute_reply": "2025-04-01T11:00:38.555171Z"
    }
   },
   "outputs": [
    {
     "ename": "TypeError",
     "evalue": "'<' not supported between instances of 'int' and 'str'",
     "output_type": "error",
     "traceback": [
      "\u001b[31m---------------------------------------------------------------------------\u001b[39m",
      "\u001b[31mTypeError\u001b[39m                                 Traceback (most recent call last)",
      "\u001b[36mFile \u001b[39m\u001b[32m~/.uvenv/plotnine/lib/python3.13/site-packages/IPython/core/formatters.py:984\u001b[39m, in \u001b[36mIPythonDisplayFormatter.__call__\u001b[39m\u001b[34m(self, obj)\u001b[39m\n\u001b[32m    982\u001b[39m method = get_real_method(obj, \u001b[38;5;28mself\u001b[39m.print_method)\n\u001b[32m    983\u001b[39m \u001b[38;5;28;01mif\u001b[39;00m method \u001b[38;5;129;01mis\u001b[39;00m \u001b[38;5;129;01mnot\u001b[39;00m \u001b[38;5;28;01mNone\u001b[39;00m:\n\u001b[32m--> \u001b[39m\u001b[32m984\u001b[39m     \u001b[43mmethod\u001b[49m\u001b[43m(\u001b[49m\u001b[43m)\u001b[49m\n\u001b[32m    985\u001b[39m     \u001b[38;5;28;01mreturn\u001b[39;00m \u001b[38;5;28;01mTrue\u001b[39;00m\n",
      "\u001b[36mFile \u001b[39m\u001b[32m~/scm/python/plotnine/plotnine/ggplot.py:149\u001b[39m, in \u001b[36mggplot._ipython_display_\u001b[39m\u001b[34m(self)\u001b[39m\n\u001b[32m    142\u001b[39m \u001b[38;5;28;01mdef\u001b[39;00m\u001b[38;5;250m \u001b[39m\u001b[34m_ipython_display_\u001b[39m(\u001b[38;5;28mself\u001b[39m):\n\u001b[32m    143\u001b[39m \u001b[38;5;250m    \u001b[39m\u001b[33;03m\"\"\"\u001b[39;00m\n\u001b[32m    144\u001b[39m \u001b[33;03m    Display plot in the output of the cell\u001b[39;00m\n\u001b[32m    145\u001b[39m \n\u001b[32m    146\u001b[39m \u001b[33;03m    This method will always be called when a ggplot object is the\u001b[39;00m\n\u001b[32m    147\u001b[39m \u001b[33;03m    last in the cell.\u001b[39;00m\n\u001b[32m    148\u001b[39m \u001b[33;03m    \"\"\"\u001b[39;00m\n\u001b[32m--> \u001b[39m\u001b[32m149\u001b[39m     \u001b[38;5;28;43mself\u001b[39;49m\u001b[43m.\u001b[49m\u001b[43m_display\u001b[49m\u001b[43m(\u001b[49m\u001b[43m)\u001b[49m\n",
      "\u001b[36mFile \u001b[39m\u001b[32m~/scm/python/plotnine/plotnine/ggplot.py:190\u001b[39m, in \u001b[36mggplot._display\u001b[39m\u001b[34m(self)\u001b[39m\n\u001b[32m    187\u001b[39m     \u001b[38;5;28mself\u001b[39m.theme = \u001b[38;5;28mself\u001b[39m.theme.to_retina()\n\u001b[32m    189\u001b[39m buf = BytesIO()\n\u001b[32m--> \u001b[39m\u001b[32m190\u001b[39m \u001b[38;5;28;43mself\u001b[39;49m\u001b[43m.\u001b[49m\u001b[43msave\u001b[49m\u001b[43m(\u001b[49m\u001b[43mbuf\u001b[49m\u001b[43m,\u001b[49m\u001b[43m \u001b[49m\u001b[33;43m\"\u001b[39;49m\u001b[33;43mpng\u001b[39;49m\u001b[33;43m\"\u001b[39;49m\u001b[43m \u001b[49m\u001b[38;5;28;43;01mif\u001b[39;49;00m\u001b[43m \u001b[49m\u001b[38;5;28;43mformat\u001b[39;49m\u001b[43m \u001b[49m\u001b[43m==\u001b[49m\u001b[43m \u001b[49m\u001b[33;43m\"\u001b[39;49m\u001b[33;43mretina\u001b[39;49m\u001b[33;43m\"\u001b[39;49m\u001b[43m \u001b[49m\u001b[38;5;28;43;01melse\u001b[39;49;00m\u001b[43m \u001b[49m\u001b[38;5;28;43mformat\u001b[39;49m\u001b[43m,\u001b[49m\u001b[43m \u001b[49m\u001b[43mverbose\u001b[49m\u001b[43m=\u001b[49m\u001b[38;5;28;43;01mFalse\u001b[39;49;00m\u001b[43m)\u001b[49m\n\u001b[32m    191\u001b[39m figure_size_px = \u001b[38;5;28mself\u001b[39m.theme._figure_size_px\n\u001b[32m    192\u001b[39m display_func = get_display_function(\u001b[38;5;28mformat\u001b[39m, figure_size_px)\n",
      "\u001b[36mFile \u001b[39m\u001b[32m~/scm/python/plotnine/plotnine/ggplot.py:702\u001b[39m, in \u001b[36mggplot.save\u001b[39m\u001b[34m(self, filename, format, path, width, height, units, dpi, limitsize, verbose, **kwargs)\u001b[39m\n\u001b[32m    653\u001b[39m \u001b[38;5;28;01mdef\u001b[39;00m\u001b[38;5;250m \u001b[39m\u001b[34msave\u001b[39m(\n\u001b[32m    654\u001b[39m     \u001b[38;5;28mself\u001b[39m,\n\u001b[32m    655\u001b[39m     filename: Optional[\u001b[38;5;28mstr\u001b[39m | Path | BytesIO] = \u001b[38;5;28;01mNone\u001b[39;00m,\n\u001b[32m   (...)\u001b[39m\u001b[32m    664\u001b[39m     **kwargs: Any,\n\u001b[32m    665\u001b[39m ):\n\u001b[32m    666\u001b[39m \u001b[38;5;250m    \u001b[39m\u001b[33;03m\"\"\"\u001b[39;00m\n\u001b[32m    667\u001b[39m \u001b[33;03m    Save a ggplot object as an image file\u001b[39;00m\n\u001b[32m    668\u001b[39m \n\u001b[32m   (...)\u001b[39m\u001b[32m    700\u001b[39m \u001b[33;03m        Additional arguments to pass to matplotlib `savefig()`.\u001b[39;00m\n\u001b[32m    701\u001b[39m \u001b[33;03m    \"\"\"\u001b[39;00m\n\u001b[32m--> \u001b[39m\u001b[32m702\u001b[39m     sv = \u001b[38;5;28;43mself\u001b[39;49m\u001b[43m.\u001b[49m\u001b[43msave_helper\u001b[49m\u001b[43m(\u001b[49m\n\u001b[32m    703\u001b[39m \u001b[43m        \u001b[49m\u001b[43mfilename\u001b[49m\u001b[43m=\u001b[49m\u001b[43mfilename\u001b[49m\u001b[43m,\u001b[49m\n\u001b[32m    704\u001b[39m \u001b[43m        \u001b[49m\u001b[38;5;28;43mformat\u001b[39;49m\u001b[43m=\u001b[49m\u001b[38;5;28;43mformat\u001b[39;49m\u001b[43m,\u001b[49m\n\u001b[32m    705\u001b[39m \u001b[43m        \u001b[49m\u001b[43mpath\u001b[49m\u001b[43m=\u001b[49m\u001b[43mpath\u001b[49m\u001b[43m,\u001b[49m\n\u001b[32m    706\u001b[39m \u001b[43m        \u001b[49m\u001b[43mwidth\u001b[49m\u001b[43m=\u001b[49m\u001b[43mwidth\u001b[49m\u001b[43m,\u001b[49m\n\u001b[32m    707\u001b[39m \u001b[43m        \u001b[49m\u001b[43mheight\u001b[49m\u001b[43m=\u001b[49m\u001b[43mheight\u001b[49m\u001b[43m,\u001b[49m\n\u001b[32m    708\u001b[39m \u001b[43m        \u001b[49m\u001b[43munits\u001b[49m\u001b[43m=\u001b[49m\u001b[43munits\u001b[49m\u001b[43m,\u001b[49m\n\u001b[32m    709\u001b[39m \u001b[43m        \u001b[49m\u001b[43mdpi\u001b[49m\u001b[43m=\u001b[49m\u001b[43mdpi\u001b[49m\u001b[43m,\u001b[49m\n\u001b[32m    710\u001b[39m \u001b[43m        \u001b[49m\u001b[43mlimitsize\u001b[49m\u001b[43m=\u001b[49m\u001b[43mlimitsize\u001b[49m\u001b[43m,\u001b[49m\n\u001b[32m    711\u001b[39m \u001b[43m        \u001b[49m\u001b[43mverbose\u001b[49m\u001b[43m=\u001b[49m\u001b[43mverbose\u001b[49m\u001b[43m,\u001b[49m\n\u001b[32m    712\u001b[39m \u001b[43m        \u001b[49m\u001b[43m*\u001b[49m\u001b[43m*\u001b[49m\u001b[43mkwargs\u001b[49m\u001b[43m,\u001b[49m\n\u001b[32m    713\u001b[39m \u001b[43m    \u001b[49m\u001b[43m)\u001b[49m\n\u001b[32m    715\u001b[39m     \u001b[38;5;28;01mwith\u001b[39;00m plot_context(\u001b[38;5;28mself\u001b[39m).rc_context:\n\u001b[32m    716\u001b[39m         sv.figure.savefig(**sv.kwargs)\n",
      "\u001b[36mFile \u001b[39m\u001b[32m~/scm/python/plotnine/plotnine/ggplot.py:650\u001b[39m, in \u001b[36mggplot.save_helper\u001b[39m\u001b[34m(self, filename, format, path, width, height, units, dpi, limitsize, verbose, **kwargs)\u001b[39m\n\u001b[32m    647\u001b[39m \u001b[38;5;28;01mif\u001b[39;00m dpi \u001b[38;5;129;01mis\u001b[39;00m \u001b[38;5;129;01mnot\u001b[39;00m \u001b[38;5;28;01mNone\u001b[39;00m:\n\u001b[32m    648\u001b[39m     \u001b[38;5;28mself\u001b[39m.theme = \u001b[38;5;28mself\u001b[39m.theme + theme(dpi=dpi)\n\u001b[32m--> \u001b[39m\u001b[32m650\u001b[39m figure = \u001b[38;5;28;43mself\u001b[39;49m\u001b[43m.\u001b[49m\u001b[43mdraw\u001b[49m\u001b[43m(\u001b[49m\u001b[43mshow\u001b[49m\u001b[43m=\u001b[49m\u001b[38;5;28;43;01mFalse\u001b[39;49;00m\u001b[43m)\u001b[49m\n\u001b[32m    651\u001b[39m \u001b[38;5;28;01mreturn\u001b[39;00m mpl_save_view(figure, fig_kwargs)\n",
      "\u001b[36mFile \u001b[39m\u001b[32m~/scm/python/plotnine/plotnine/ggplot.py:322\u001b[39m, in \u001b[36mggplot.draw\u001b[39m\u001b[34m(self, show)\u001b[39m\n\u001b[32m    319\u001b[39m     \u001b[38;5;28mself\u001b[39m._create_figure()\n\u001b[32m    320\u001b[39m figure = \u001b[38;5;28mself\u001b[39m.figure\n\u001b[32m--> \u001b[39m\u001b[32m322\u001b[39m \u001b[38;5;28;43mself\u001b[39;49m\u001b[43m.\u001b[49m\u001b[43m_build\u001b[49m\u001b[43m(\u001b[49m\u001b[43m)\u001b[49m\n\u001b[32m    324\u001b[39m \u001b[38;5;66;03m# setup\u001b[39;00m\n\u001b[32m    325\u001b[39m \u001b[38;5;28mself\u001b[39m.axs = \u001b[38;5;28mself\u001b[39m.facet.setup(\u001b[38;5;28mself\u001b[39m)\n",
      "\u001b[36mFile \u001b[39m\u001b[32m~/scm/python/plotnine/plotnine/ggplot.py:419\u001b[39m, in \u001b[36mggplot._build\u001b[39m\u001b[34m(self)\u001b[39m\n\u001b[32m    417\u001b[39m npscales = scales.non_position_scales()\n\u001b[32m    418\u001b[39m \u001b[38;5;28;01mif\u001b[39;00m \u001b[38;5;28mlen\u001b[39m(npscales):\n\u001b[32m--> \u001b[39m\u001b[32m419\u001b[39m     \u001b[43mlayers\u001b[49m\u001b[43m.\u001b[49m\u001b[43mtrain\u001b[49m\u001b[43m(\u001b[49m\u001b[43mnpscales\u001b[49m\u001b[43m)\u001b[49m\n\u001b[32m    420\u001b[39m     layers.map(npscales)\n\u001b[32m    422\u001b[39m \u001b[38;5;66;03m# Train coordinate system\u001b[39;00m\n",
      "\u001b[36mFile \u001b[39m\u001b[32m~/scm/python/plotnine/plotnine/layer.py:492\u001b[39m, in \u001b[36mLayers.train\u001b[39m\u001b[34m(self, scales)\u001b[39m\n\u001b[32m    490\u001b[39m \u001b[38;5;28;01mdef\u001b[39;00m\u001b[38;5;250m \u001b[39m\u001b[34mtrain\u001b[39m(\u001b[38;5;28mself\u001b[39m, scales: Scales):\n\u001b[32m    491\u001b[39m     \u001b[38;5;28;01mfor\u001b[39;00m l \u001b[38;5;129;01min\u001b[39;00m \u001b[38;5;28mself\u001b[39m:\n\u001b[32m--> \u001b[39m\u001b[32m492\u001b[39m         \u001b[43mscales\u001b[49m\u001b[43m.\u001b[49m\u001b[43mtrain_df\u001b[49m\u001b[43m(\u001b[49m\u001b[43ml\u001b[49m\u001b[43m.\u001b[49m\u001b[43mdata\u001b[49m\u001b[43m)\u001b[49m\n",
      "\u001b[36mFile \u001b[39m\u001b[32m~/scm/python/plotnine/plotnine/scales/scales.py:203\u001b[39m, in \u001b[36mScales.train_df\u001b[39m\u001b[34m(self, data, drop)\u001b[39m\n\u001b[32m    201\u001b[39m \u001b[38;5;66;03m# Each scale trains the columns it understands\u001b[39;00m\n\u001b[32m    202\u001b[39m \u001b[38;5;28;01mfor\u001b[39;00m sc \u001b[38;5;129;01min\u001b[39;00m \u001b[38;5;28mself\u001b[39m:\n\u001b[32m--> \u001b[39m\u001b[32m203\u001b[39m     \u001b[43msc\u001b[49m\u001b[43m.\u001b[49m\u001b[43mtrain_df\u001b[49m\u001b[43m(\u001b[49m\u001b[43mdata\u001b[49m\u001b[43m)\u001b[49m\n",
      "\u001b[36mFile \u001b[39m\u001b[32m~/scm/python/plotnine/plotnine/scales/scale.py:284\u001b[39m, in \u001b[36mscale.train_df\u001b[39m\u001b[34m(self, df)\u001b[39m\n\u001b[32m    282\u001b[39m aesthetics = \u001b[38;5;28msorted\u001b[39m(\u001b[38;5;28mset\u001b[39m(\u001b[38;5;28mself\u001b[39m.aesthetics) & \u001b[38;5;28mset\u001b[39m(df.columns))\n\u001b[32m    283\u001b[39m \u001b[38;5;28;01mfor\u001b[39;00m ae \u001b[38;5;129;01min\u001b[39;00m aesthetics:\n\u001b[32m--> \u001b[39m\u001b[32m284\u001b[39m     \u001b[38;5;28;43mself\u001b[39;49m\u001b[43m.\u001b[49m\u001b[43mtrain\u001b[49m\u001b[43m(\u001b[49m\u001b[43mdf\u001b[49m\u001b[43m[\u001b[49m\u001b[43mae\u001b[49m\u001b[43m]\u001b[49m\u001b[43m)\u001b[49m\n",
      "\u001b[36mFile \u001b[39m\u001b[32m~/scm/python/plotnine/plotnine/scales/scale_identity.py:36\u001b[39m, in \u001b[36mMapTrainMixin.train\u001b[39m\u001b[34m(self, x, drop)\u001b[39m\n\u001b[32m     33\u001b[39m \u001b[38;5;28;01mif\u001b[39;00m \u001b[38;5;28mself\u001b[39m.guide \u001b[38;5;129;01mis\u001b[39;00m \u001b[38;5;28;01mNone\u001b[39;00m:  \u001b[38;5;66;03m# pyright: ignore\u001b[39;00m\n\u001b[32m     34\u001b[39m     \u001b[38;5;28;01mreturn\u001b[39;00m\n\u001b[32m---> \u001b[39m\u001b[32m36\u001b[39m \u001b[38;5;28;01mreturn\u001b[39;00m \u001b[38;5;28;43msuper\u001b[39;49m\u001b[43m(\u001b[49m\u001b[43m)\u001b[49m\u001b[43m.\u001b[49m\u001b[43mtrain\u001b[49m\u001b[43m(\u001b[49m\u001b[43mx\u001b[49m\u001b[43m)\u001b[49m\n",
      "\u001b[36mFile \u001b[39m\u001b[32m~/scm/python/plotnine/plotnine/scales/scale_discrete.py:107\u001b[39m, in \u001b[36mscale_discrete.train\u001b[39m\u001b[34m(self, x, drop)\u001b[39m\n\u001b[32m    104\u001b[39m     \u001b[38;5;28;01mreturn\u001b[39;00m\n\u001b[32m    106\u001b[39m na_rm = \u001b[38;5;129;01mnot\u001b[39;00m \u001b[38;5;28mself\u001b[39m.na_translate\n\u001b[32m--> \u001b[39m\u001b[32m107\u001b[39m \u001b[38;5;28;43mself\u001b[39;49m\u001b[43m.\u001b[49m\u001b[43m_range\u001b[49m\u001b[43m.\u001b[49m\u001b[43mtrain\u001b[49m\u001b[43m(\u001b[49m\u001b[43mx\u001b[49m\u001b[43m,\u001b[49m\u001b[43m \u001b[49m\u001b[43mdrop\u001b[49m\u001b[43m,\u001b[49m\u001b[43m \u001b[49m\u001b[43mna_rm\u001b[49m\u001b[43m=\u001b[49m\u001b[43mna_rm\u001b[49m\u001b[43m)\u001b[49m\n",
      "\u001b[36mFile \u001b[39m\u001b[32m~/scm/python/plotnine/plotnine/scales/range.py:67\u001b[39m, in \u001b[36mRangeDiscrete.train\u001b[39m\u001b[34m(self, x, drop, na_rm)\u001b[39m\n\u001b[32m     63\u001b[39m \u001b[38;5;250m\u001b[39m\u001b[33;03m\"\"\"\u001b[39;00m\n\u001b[32m     64\u001b[39m \u001b[33;03mTrain discrete range\u001b[39;00m\n\u001b[32m     65\u001b[39m \u001b[33;03m\"\"\"\u001b[39;00m\n\u001b[32m     66\u001b[39m rng = \u001b[38;5;28;01mNone\u001b[39;00m \u001b[38;5;28;01mif\u001b[39;00m \u001b[38;5;28mself\u001b[39m.is_empty() \u001b[38;5;28;01melse\u001b[39;00m \u001b[38;5;28mself\u001b[39m.range\n\u001b[32m---> \u001b[39m\u001b[32m67\u001b[39m \u001b[38;5;28mself\u001b[39m.range = \u001b[43mscale_discrete\u001b[49m\u001b[43m.\u001b[49m\u001b[43mtrain\u001b[49m\u001b[43m(\u001b[49m\u001b[43mx\u001b[49m\u001b[43m,\u001b[49m\u001b[43m \u001b[49m\u001b[43mrng\u001b[49m\u001b[43m,\u001b[49m\u001b[43m \u001b[49m\u001b[43mdrop\u001b[49m\u001b[43m,\u001b[49m\u001b[43m \u001b[49m\u001b[43mna_rm\u001b[49m\u001b[43m=\u001b[49m\u001b[43mna_rm\u001b[49m\u001b[43m)\u001b[49m\n",
      "\u001b[36mFile \u001b[39m\u001b[32m~/.uvenv/plotnine/lib/python3.13/site-packages/mizani/scale.py:269\u001b[39m, in \u001b[36mscale_discrete.train\u001b[39m\u001b[34m(cls, new_data, old, drop, na_rm)\u001b[39m\n\u001b[32m    267\u001b[39m     limits = [c \u001b[38;5;28;01mfor\u001b[39;00m c \u001b[38;5;129;01min\u001b[39;00m ordered_cats \u001b[38;5;28;01mif\u001b[39;00m c \u001b[38;5;129;01min\u001b[39;00m all_set]\n\u001b[32m    268\u001b[39m \u001b[38;5;28;01melse\u001b[39;00m:\n\u001b[32m--> \u001b[39m\u001b[32m269\u001b[39m     new = \u001b[43mnp\u001b[49m\u001b[43m.\u001b[49m\u001b[43munique\u001b[49m\u001b[43m(\u001b[49m\u001b[43mnew_data\u001b[49m\u001b[43m)\u001b[49m\n\u001b[32m    270\u001b[39m     new.sort()\n\u001b[32m    272\u001b[39m     limits = old + [i \u001b[38;5;28;01mfor\u001b[39;00m i \u001b[38;5;129;01min\u001b[39;00m new \u001b[38;5;28;01mif\u001b[39;00m (i \u001b[38;5;129;01mnot\u001b[39;00m \u001b[38;5;129;01min\u001b[39;00m old_set)]\n",
      "\u001b[36mFile \u001b[39m\u001b[32m~/.uvenv/plotnine/lib/python3.13/site-packages/numpy/lib/_arraysetops_impl.py:286\u001b[39m, in \u001b[36munique\u001b[39m\u001b[34m(ar, return_index, return_inverse, return_counts, axis, equal_nan)\u001b[39m\n\u001b[32m    284\u001b[39m ar = np.asanyarray(ar)\n\u001b[32m    285\u001b[39m \u001b[38;5;28;01mif\u001b[39;00m axis \u001b[38;5;129;01mis\u001b[39;00m \u001b[38;5;28;01mNone\u001b[39;00m:\n\u001b[32m--> \u001b[39m\u001b[32m286\u001b[39m     ret = \u001b[43m_unique1d\u001b[49m\u001b[43m(\u001b[49m\u001b[43mar\u001b[49m\u001b[43m,\u001b[49m\u001b[43m \u001b[49m\u001b[43mreturn_index\u001b[49m\u001b[43m,\u001b[49m\u001b[43m \u001b[49m\u001b[43mreturn_inverse\u001b[49m\u001b[43m,\u001b[49m\u001b[43m \u001b[49m\u001b[43mreturn_counts\u001b[49m\u001b[43m,\u001b[49m\n\u001b[32m    287\u001b[39m \u001b[43m                    \u001b[49m\u001b[43mequal_nan\u001b[49m\u001b[43m=\u001b[49m\u001b[43mequal_nan\u001b[49m\u001b[43m,\u001b[49m\u001b[43m \u001b[49m\u001b[43minverse_shape\u001b[49m\u001b[43m=\u001b[49m\u001b[43mar\u001b[49m\u001b[43m.\u001b[49m\u001b[43mshape\u001b[49m\u001b[43m,\u001b[49m\u001b[43m \u001b[49m\u001b[43maxis\u001b[49m\u001b[43m=\u001b[49m\u001b[38;5;28;43;01mNone\u001b[39;49;00m\u001b[43m)\u001b[49m\n\u001b[32m    288\u001b[39m     \u001b[38;5;28;01mreturn\u001b[39;00m _unpack_tuple(ret)\n\u001b[32m    290\u001b[39m \u001b[38;5;66;03m# axis was specified and not None\u001b[39;00m\n",
      "\u001b[36mFile \u001b[39m\u001b[32m~/.uvenv/plotnine/lib/python3.13/site-packages/numpy/lib/_arraysetops_impl.py:353\u001b[39m, in \u001b[36m_unique1d\u001b[39m\u001b[34m(ar, return_index, return_inverse, return_counts, equal_nan, inverse_shape, axis)\u001b[39m\n\u001b[32m    351\u001b[39m     aux = ar[perm]\n\u001b[32m    352\u001b[39m \u001b[38;5;28;01melse\u001b[39;00m:\n\u001b[32m--> \u001b[39m\u001b[32m353\u001b[39m     \u001b[43mar\u001b[49m\u001b[43m.\u001b[49m\u001b[43msort\u001b[49m\u001b[43m(\u001b[49m\u001b[43m)\u001b[49m\n\u001b[32m    354\u001b[39m     aux = ar\n\u001b[32m    355\u001b[39m mask = np.empty(aux.shape, dtype=np.bool)\n",
      "\u001b[31mTypeError\u001b[39m: '<' not supported between instances of 'int' and 'str'"
     ]
    },
    {
     "data": {
      "text/plain": [
       "<plotnine.ggplot.ggplot at 0x10acd1220>"
      ]
     },
     "execution_count": 3,
     "metadata": {},
     "output_type": "execute_result"
    }
   ],
   "source": [
    "# Gallery, points\n",
    "\n",
    "def double_quote_strings(series):\n",
    "    return [\n",
    "        '\"{}\"'.format(s) if isinstance(s, str) else \"{}\".format(s)\n",
    "        for s in series\n",
    "    ]\n",
    "\n",
    "(\n",
    "    ggplot(df, aes(\"x\", \"y\"))\n",
    "    \n",
    "    # Background\n",
    "    + geom_tile(aes(width=0.9, height=0.9), fill=\"#F8F8F8\")\n",
    "    \n",
    "    # Cross-grid to help see the centering of the shapes\n",
    "    + geom_segment(aes(x=\"x-0.45\", xend=\"x+0.45\", yend=\"y\"), color=\"Crimson\", alpha=0.05)\n",
    "    + geom_segment(aes(xend=\"x\", y=\"y-0.45\", yend=\"y+0.45\"), color=\"Crimson\", alpha=0.05)\n",
    "    \n",
    "    # The shape\n",
    "    + geom_point(aes(shape=\"shape\"), fill=\"#E5C8D6\", size=8)\n",
    "\n",
    "    # Specification value for the shape\n",
    "    + geom_text(\n",
    "        aes(y=\"y+.5\", label=\"double_quote_strings(shape)\"),\n",
    "        color=\"darkblue\",\n",
    "        va=\"bottom\",\n",
    "    )\n",
    "\n",
    "    # Separate the shapes by their kind\n",
    "    + facet_wrap(\"shape_kind\", ncol=1)\n",
    "\n",
    "    # Make things pretty\n",
    "    + lims(y=(2, 5))\n",
    "    + scale_shape_identity()\n",
    "    + coord_equal()\n",
    "    + theme_void()\n",
    "    + theme(\n",
    "        plot_background=element_rect(fill=\"white\"),\n",
    "        strip_text=element_text(size=12)\n",
    "    )\n",
    ")"
   ]
  }
 ],
 "metadata": {
  "kernelspec": {
   "display_name": "Python 3 (ipykernel)",
   "language": "python",
   "name": "python3"
  },
  "language_info": {
   "codemirror_mode": {
    "name": "ipython",
    "version": 3
   },
   "file_extension": ".py",
   "mimetype": "text/x-python",
   "name": "python",
   "nbconvert_exporter": "python",
   "pygments_lexer": "ipython3",
   "version": "3.13.2"
  }
 },
 "nbformat": 4,
 "nbformat_minor": 5
}
